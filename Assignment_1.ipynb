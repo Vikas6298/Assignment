{
  "nbformat": 4,
  "nbformat_minor": 0,
  "metadata": {
    "colab": {
      "provenance": []
    },
    "kernelspec": {
      "name": "python3",
      "display_name": "Python 3"
    },
    "language_info": {
      "name": "python"
    }
  },
  "cells": [
    {
      "cell_type": "code",
      "execution_count": null,
      "metadata": {
        "id": "nNVycVEvrG0w"
      },
      "outputs": [],
      "source": [
        "\"\"\"1) Explain the key features of Python that make it a popular choice for programming?\n",
        "\n",
        "Answer- Key features of python:\n",
        "1) Python codes are neat and organized. We can write a lot with just a few lines of code.\n",
        "2) Python have so many libraries with pre-written code that we can use to easily perform specific tasks.\n",
        "3) Python are used in many things like building websites, analyzing data, finding insight from the data which help to growth in a business.\n",
        "4) Python runs smoothly on computers like Windows, Mac, and Linux\"\"\""
      ]
    },
    {
      "cell_type": "code",
      "source": [
        "\"\"\"2) Describe the role of predefined keywords in Python and provide examples of how they are used in a program?\n",
        "\n",
        "Answer- Predefined keywords are reserved words that holds a special meaning and have specific purpose in python.\n",
        "1. If, else: These keywords control conditional statement. They allow program to make decisions based on whether certain conditions are true or false\"\"\"\n",
        "\n",
        "age=18\n",
        "if age>=18:\n",
        "    print(\"You are eligible to vote\")\n",
        "else:\n",
        "    print(\"You are not eligible to vote\")"
      ],
      "metadata": {
        "id": "Uy9rv1YpuY2n",
        "colab": {
          "base_uri": "https://localhost:8080/"
        },
        "outputId": "55034182-8b96-49f4-b234-fab2fe164692"
      },
      "execution_count": null,
      "outputs": [
        {
          "output_type": "stream",
          "name": "stdout",
          "text": [
            "You are eligible to vote\n"
          ]
        }
      ]
    },
    {
      "cell_type": "code",
      "source": [
        "#3) Compare and contrast mutable and immutable objects in Python with examples?\n",
        "\n",
        "#Answer- Mutable object can be modified inplace. We can change their content without creating new object.\n",
        "number = [1,2,3]\n",
        "number.append(4)\n",
        "print(number)\n",
        "\n",
        "# immutable object cannot be changed after they are created. Any operation that appears to modify create a new object with modified value.\n",
        "morning= \"Hi\"\n",
        "gud_morning = morning + \" Good Morning\"     #creating new string\n",
        "print(gud_morning)"
      ],
      "metadata": {
        "colab": {
          "base_uri": "https://localhost:8080/"
        },
        "id": "UwhJtwfDzPAJ",
        "outputId": "37a33473-5187-4378-ea82-72d5c11e11a0"
      },
      "execution_count": null,
      "outputs": [
        {
          "output_type": "stream",
          "name": "stdout",
          "text": [
            "[1, 2, 3, 4]\n",
            "Hi Good Morning\n"
          ]
        }
      ]
    },
    {
      "cell_type": "code",
      "source": [
        "#4) Discuss the different types of operators in Python and provide examples of how they are used?\n",
        "\n",
        "#Answer- Operators are special symbols that perform specific operations on values/ variable.\n",
        "a = 2       #Additional Operator\n",
        "b = 5\n",
        "print(a+b)"
      ],
      "metadata": {
        "id": "CK6fVujN3S4U",
        "colab": {
          "base_uri": "https://localhost:8080/"
        },
        "outputId": "5b9a4c79-63e3-4855-db14-1bd097c59e97"
      },
      "execution_count": null,
      "outputs": [
        {
          "output_type": "stream",
          "name": "stdout",
          "text": [
            "7\n"
          ]
        }
      ]
    },
    {
      "cell_type": "code",
      "source": [
        "a = 20        # Modulo operator\n",
        "b = 6\n",
        "print(a%b)"
      ],
      "metadata": {
        "colab": {
          "base_uri": "https://localhost:8080/"
        },
        "id": "dd07A6GylfBA",
        "outputId": "8cba0aaf-002c-4fb9-f3e8-ecd661577c7c"
      },
      "execution_count": null,
      "outputs": [
        {
          "output_type": "stream",
          "name": "stdout",
          "text": [
            "2\n"
          ]
        }
      ]
    },
    {
      "cell_type": "code",
      "source": [
        "a = 2\n",
        "new_value = a**5      #Exponentiation operator\n",
        "print(new_value)"
      ],
      "metadata": {
        "colab": {
          "base_uri": "https://localhost:8080/"
        },
        "id": "okhw4pWmmFYN",
        "outputId": "aa1f0ecf-24ee-4d95-dfe3-b9adc7938a47"
      },
      "execution_count": null,
      "outputs": [
        {
          "output_type": "stream",
          "name": "stdout",
          "text": [
            "32\n"
          ]
        }
      ]
    },
    {
      "cell_type": "code",
      "source": [
        "a = 12\n",
        "b = 15            #comparison operator\n",
        "print(a<b)"
      ],
      "metadata": {
        "colab": {
          "base_uri": "https://localhost:8080/"
        },
        "id": "ohO03QVVmlTk",
        "outputId": "5486ed41-ce5c-4d4a-cf52-898d262ca60d"
      },
      "execution_count": null,
      "outputs": [
        {
          "output_type": "stream",
          "name": "stdout",
          "text": [
            "True\n"
          ]
        }
      ]
    },
    {
      "cell_type": "code",
      "source": [
        "age = int(input(\"Enter your age: \"))        #conditional statement using and operator\n",
        "DL = input(\"Do you have DL? \")\n",
        "if age>=18 and DL==\"yes\":\n",
        "    print(\"You are eligible\")\n",
        "else:\n",
        "    print(\"You are not eligible\")"
      ],
      "metadata": {
        "colab": {
          "base_uri": "https://localhost:8080/"
        },
        "id": "vDZxFWclnOW6",
        "outputId": "c92c6835-7ffb-489c-a370-75cf5c7004cc"
      },
      "execution_count": null,
      "outputs": [
        {
          "output_type": "stream",
          "name": "stdout",
          "text": [
            "Enter your age: 12\n",
            "Do you have DL? no\n",
            "You are not eligible\n"
          ]
        }
      ]
    },
    {
      "cell_type": "code",
      "source": [
        "age = int(input(\"Enter your age: \"))      #conditional statement usig or operator\n",
        "DL = input(\"Do you have DL? \")\n",
        "if age>=18 or DL==\"yes\":\n",
        "    print(\"You are eligible\")\n",
        "else:\n",
        "    print(\"You are not eligible\")"
      ],
      "metadata": {
        "colab": {
          "base_uri": "https://localhost:8080/"
        },
        "id": "k4JTtzRrpV0z",
        "outputId": "4417c660-f8d2-48f5-fd61-10e7d53a07db"
      },
      "execution_count": null,
      "outputs": [
        {
          "output_type": "stream",
          "name": "stdout",
          "text": [
            "Enter your age: 12\n",
            "Do you have DL? yes\n",
            "You are eligible\n"
          ]
        }
      ]
    },
    {
      "cell_type": "code",
      "source": [
        "a = 8            #Assignment operator\n",
        "a+= 2\n",
        "print(a)"
      ],
      "metadata": {
        "colab": {
          "base_uri": "https://localhost:8080/"
        },
        "id": "hvGkXcrSp5lP",
        "outputId": "8d1bbfff-a0a3-478c-ee32-f6f9bed76706"
      },
      "execution_count": null,
      "outputs": [
        {
          "output_type": "stream",
          "name": "stdout",
          "text": [
            "10\n"
          ]
        }
      ]
    },
    {
      "cell_type": "code",
      "source": [
        "text = 'hello,world!'\n",
        "if 'w' in text:                          # Membership operator\n",
        "    print(\"w is present in text\")\n",
        "    print(text.index('w'))\n",
        "else:\n",
        "    print(\"w is not present in text\")"
      ],
      "metadata": {
        "colab": {
          "base_uri": "https://localhost:8080/"
        },
        "id": "VXiw6n8Eq5qS",
        "outputId": "857813ca-f458-442b-e23d-08a9bd5fe60c"
      },
      "execution_count": null,
      "outputs": [
        {
          "output_type": "stream",
          "name": "stdout",
          "text": [
            "w is present in text\n",
            "6\n"
          ]
        }
      ]
    },
    {
      "cell_type": "code",
      "source": [
        "#5) Explain the concept of type casting in Python with examples?\n",
        "\n",
        "\"\"\"Answer: Type casting is the process of converting one data type to other. Data types such as integer, float, string, list, tuple, set are used to represent\n",
        "different types of data.sometime we need to convert one data type into another for compile the programm.\"\"\"\n"
      ],
      "metadata": {
        "colab": {
          "base_uri": "https://localhost:8080/",
          "height": 54
        },
        "id": "DwBJdzZJtYCr",
        "outputId": "d7b8e720-3cc2-4243-b0a6-aaaa9b97cc9b"
      },
      "execution_count": null,
      "outputs": [
        {
          "output_type": "execute_result",
          "data": {
            "text/plain": [
              "'Answer: Type casting is the process of converting one data type to other. Data types such as integer, float, string, list, tuple, set are used to represent \\ndifferent types of data.sometime we need to convert one data type into another for compile the programm.'"
            ],
            "application/vnd.google.colaboratory.intrinsic+json": {
              "type": "string"
            }
          },
          "metadata": {},
          "execution_count": 24
        }
      ]
    },
    {
      "cell_type": "code",
      "source": [
        "a = 42     #integer to string coversion\n",
        "int_to_str = str(a)\n",
        "type(int_to_str)"
      ],
      "metadata": {
        "colab": {
          "base_uri": "https://localhost:8080/"
        },
        "id": "hBX4xD5Nw0vN",
        "outputId": "52f37430-e1ec-4bf8-8e3f-a2523b190237"
      },
      "execution_count": null,
      "outputs": [
        {
          "output_type": "execute_result",
          "data": {
            "text/plain": [
              "str"
            ]
          },
          "metadata": {},
          "execution_count": 28
        }
      ]
    },
    {
      "cell_type": "code",
      "source": [
        "str = \"10\"          #String to integer conversion\n",
        "int_Change = int(str)\n",
        "type(int_Change)"
      ],
      "metadata": {
        "colab": {
          "base_uri": "https://localhost:8080/"
        },
        "id": "ETvEgANTxlVI",
        "outputId": "53f0cb5b-e45f-4b97-ae35-f712cb6bf605"
      },
      "execution_count": null,
      "outputs": [
        {
          "output_type": "execute_result",
          "data": {
            "text/plain": [
              "int"
            ]
          },
          "metadata": {},
          "execution_count": 29
        }
      ]
    },
    {
      "cell_type": "code",
      "source": [
        "list = [a, b]\n",
        "tuple_Change = tuple(list)\n",
        "type(tuple_Change)"
      ],
      "metadata": {
        "colab": {
          "base_uri": "https://localhost:8080/"
        },
        "id": "mEHXDkJny02a",
        "outputId": "b142751d-383c-4038-c403-cac45137dc93"
      },
      "execution_count": null,
      "outputs": [
        {
          "output_type": "execute_result",
          "data": {
            "text/plain": [
              "tuple"
            ]
          },
          "metadata": {},
          "execution_count": 35
        }
      ]
    },
    {
      "cell_type": "code",
      "source": [
        "#6) How do conditional statements work in Python? Illustrate with examples?\n",
        "\n",
        "#Answer- conditional statements are used in decision-making in programming."
      ],
      "metadata": {
        "id": "LmZ96EQTzHFd"
      },
      "execution_count": null,
      "outputs": []
    },
    {
      "cell_type": "code",
      "source": [
        "x = 10          # if condition -  code will execute when if condition is True\n",
        "\n",
        "if x > 5:\n",
        "    print(\"x is greater than 5\")"
      ],
      "metadata": {
        "colab": {
          "base_uri": "https://localhost:8080/"
        },
        "id": "7BzoX5BF1GPU",
        "outputId": "3c0b8a95-b188-4074-cf12-a441a324615c"
      },
      "execution_count": null,
      "outputs": [
        {
          "output_type": "stream",
          "name": "stdout",
          "text": [
            "x is greater than 5\n"
          ]
        }
      ]
    },
    {
      "cell_type": "code",
      "source": [
        "x = 3                       #We use If else statement when if condition is False\n",
        "\n",
        "if x > 5:\n",
        "    print(\"x is greater than 5\")\n",
        "else:\n",
        "    print(\"x is not greater than 5\")"
      ],
      "metadata": {
        "colab": {
          "base_uri": "https://localhost:8080/"
        },
        "id": "q4og4jUR1RlC",
        "outputId": "42bc147c-1a79-4510-b65c-caf13be85c31"
      },
      "execution_count": null,
      "outputs": [
        {
          "output_type": "stream",
          "name": "stdout",
          "text": [
            "x is not greater than 5\n"
          ]
        }
      ]
    },
    {
      "cell_type": "code",
      "source": [
        "x = 7                 #if-elif-else statement\n",
        "\n",
        "if x > 10:\n",
        "    print(\"x is greater than 10\")\n",
        "elif x == 7:\n",
        "    print(\"x is equal to 7\")\n",
        "else:\n",
        "    print(\"x is less than 7\")"
      ],
      "metadata": {
        "colab": {
          "base_uri": "https://localhost:8080/"
        },
        "id": "nsmd-Rr41qrq",
        "outputId": "5d5641bf-6e8c-4be8-8794-b8a706f99911"
      },
      "execution_count": null,
      "outputs": [
        {
          "output_type": "stream",
          "name": "stdout",
          "text": [
            "x is equal to 7\n"
          ]
        }
      ]
    },
    {
      "cell_type": "code",
      "source": [
        "#7) Describe the different types of loops in Python and their use cases with examples?\n",
        "\n",
        "#Answer: loops are used to execute a block of code repeatedly based on certain conditions.\n"
      ],
      "metadata": {
        "id": "adk4WNhh2wej"
      },
      "execution_count": null,
      "outputs": []
    },
    {
      "cell_type": "code",
      "source": [
        "fruits = [\"apple\", \"banana\", \"cherry\"]\n",
        "\n",
        "for fruit in fruits:\n",
        "    print(fruit)"
      ],
      "metadata": {
        "colab": {
          "base_uri": "https://localhost:8080/"
        },
        "id": "f3lDJ54-4b9f",
        "outputId": "035f5d27-3b8e-45f1-ccc3-aee856226264"
      },
      "execution_count": null,
      "outputs": [
        {
          "output_type": "stream",
          "name": "stdout",
          "text": [
            "apple\n",
            "banana\n",
            "cherry\n"
          ]
        }
      ]
    },
    {
      "cell_type": "code",
      "source": [
        "i = 5\n",
        "while i > 0:\n",
        "    print(i)\n",
        "    i -= 1  # Decrement the value of i"
      ],
      "metadata": {
        "colab": {
          "base_uri": "https://localhost:8080/"
        },
        "id": "nzUSFNEu4cgE",
        "outputId": "72f52d0f-8a48-4bd3-ebdf-64a6e669b3d3"
      },
      "execution_count": null,
      "outputs": [
        {
          "output_type": "stream",
          "name": "stdout",
          "text": [
            "5\n",
            "4\n",
            "3\n",
            "2\n",
            "1\n"
          ]
        }
      ]
    },
    {
      "cell_type": "code",
      "source": [],
      "metadata": {
        "id": "7Ijw7OFn4tMA"
      },
      "execution_count": null,
      "outputs": []
    },
    {
      "cell_type": "markdown",
      "source": [
        "# **Thankyou.**"
      ],
      "metadata": {
        "id": "_9HghgSJ44Z4"
      }
    }
  ]
}