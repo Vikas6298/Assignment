{
  "nbformat": 4,
  "nbformat_minor": 0,
  "metadata": {
    "colab": {
      "provenance": []
    },
    "kernelspec": {
      "name": "python3",
      "display_name": "Python 3"
    },
    "language_info": {
      "name": "python"
    }
  },
  "cells": [
    {
      "cell_type": "code",
      "execution_count": 1,
      "metadata": {
        "colab": {
          "base_uri": "https://localhost:8080/"
        },
        "id": "h9QXbshqU53Y",
        "outputId": "61d3b6ce-941b-4e5a-b1c8-bc8822094273"
      },
      "outputs": [
        {
          "output_type": "stream",
          "name": "stdout",
          "text": [
            "gnirts_ruoy\n"
          ]
        }
      ],
      "source": [
        "#1\n",
        "s = \"your_string\"\n",
        "reversed_s = s[::-1]\n",
        "print(reversed_s)"
      ]
    },
    {
      "cell_type": "code",
      "source": [
        "#2\n",
        "s = \"your_string\"\n",
        "vowels = \"aeiouAEIOU\"\n",
        "count = sum(1 for char in s if char in vowels)\n",
        "print(count)"
      ],
      "metadata": {
        "colab": {
          "base_uri": "https://localhost:8080/"
        },
        "id": "fI3x2RQVVHdo",
        "outputId": "0dabd04d-f34c-40fb-c3fc-a0401e010818"
      },
      "execution_count": 2,
      "outputs": [
        {
          "output_type": "stream",
          "name": "stdout",
          "text": [
            "3\n"
          ]
        }
      ]
    },
    {
      "cell_type": "code",
      "source": [
        "#3\n",
        "s = \"level\"\n",
        "is_palindrome = s == s[::-1]\n",
        "print(is_palindrome)"
      ],
      "metadata": {
        "colab": {
          "base_uri": "https://localhost:8080/"
        },
        "id": "Rmf0avI-VRsk",
        "outputId": "b21ca3fd-3dcf-4fb3-9ef6-b4b829873a65"
      },
      "execution_count": 3,
      "outputs": [
        {
          "output_type": "stream",
          "name": "stdout",
          "text": [
            "True\n"
          ]
        }
      ]
    },
    {
      "cell_type": "code",
      "source": [
        "#4\n",
        "str1 = \"listen\"\n",
        "str2 = \"silent\"\n",
        "is_anagram = sorted(str1) == sorted(str2)\n",
        "print(is_anagram)"
      ],
      "metadata": {
        "colab": {
          "base_uri": "https://localhost:8080/"
        },
        "id": "Tr1ugLO9VZCQ",
        "outputId": "b9b0d7eb-4711-4286-95f9-d592fab02d3d"
      },
      "execution_count": 4,
      "outputs": [
        {
          "output_type": "stream",
          "name": "stdout",
          "text": [
            "True\n"
          ]
        }
      ]
    },
    {
      "cell_type": "code",
      "source": [
        "#5\n",
        "string = \"banana\"\n",
        "substring = \"ana\"\n",
        "positions = []\n",
        "i = string.find(substring)\n",
        "while i != -1:\n",
        "    positions.append(i)\n",
        "    i = string.find(substring, i + 1)\n",
        "print(positions)"
      ],
      "metadata": {
        "colab": {
          "base_uri": "https://localhost:8080/"
        },
        "id": "H5fpL0DaXP0o",
        "outputId": "c08f3cab-60f1-47d5-f2e1-e824d1714c12"
      },
      "execution_count": 5,
      "outputs": [
        {
          "output_type": "stream",
          "name": "stdout",
          "text": [
            "[1, 3]\n"
          ]
        }
      ]
    },
    {
      "cell_type": "code",
      "source": [
        "#6\n",
        "def compress(s):\n",
        "    result = \"\"\n",
        "    count = 1\n",
        "    for i in range(1, len(s)+1):\n",
        "        if i < len(s) and s[i] == s[i-1]:\n",
        "            count += 1\n",
        "        else:\n",
        "            result += s[i-1] + (str(count) if count > 1 else '')\n",
        "            count = 1\n",
        "    return result\n",
        "print(compress(\"aaabbbccca\"))"
      ],
      "metadata": {
        "colab": {
          "base_uri": "https://localhost:8080/"
        },
        "id": "lNrnhkf-XWYs",
        "outputId": "c0aa2af3-fd80-4eff-d47b-347e9e8fce16"
      },
      "execution_count": 6,
      "outputs": [
        {
          "output_type": "stream",
          "name": "stdout",
          "text": [
            "a3b3c3a\n"
          ]
        }
      ]
    },
    {
      "cell_type": "code",
      "source": [
        "#7\n",
        "s = \"abcdefg\"\n",
        "is_unique = len(set(s)) == len(s)\n",
        "print(is_unique)"
      ],
      "metadata": {
        "colab": {
          "base_uri": "https://localhost:8080/"
        },
        "id": "42i36o2UXbCx",
        "outputId": "7b575da0-2331-4895-ba4d-e76d08acbf5a"
      },
      "execution_count": 7,
      "outputs": [
        {
          "output_type": "stream",
          "name": "stdout",
          "text": [
            "True\n"
          ]
        }
      ]
    },
    {
      "cell_type": "code",
      "source": [
        "#8\n",
        "s = \"Hello\"\n",
        "print(s.upper())\n",
        "print(s.lower())"
      ],
      "metadata": {
        "colab": {
          "base_uri": "https://localhost:8080/"
        },
        "id": "ZRC3rEZiXeWV",
        "outputId": "3f3e63f0-2303-4e99-bdf7-1edd5ac60e9f"
      },
      "execution_count": 8,
      "outputs": [
        {
          "output_type": "stream",
          "name": "stdout",
          "text": [
            "HELLO\n",
            "hello\n"
          ]
        }
      ]
    },
    {
      "cell_type": "code",
      "source": [
        "#9\n",
        "s = \"This is a sentence\"\n",
        "words = s.split()\n",
        "print(len(words))"
      ],
      "metadata": {
        "colab": {
          "base_uri": "https://localhost:8080/"
        },
        "id": "829PROloXhUc",
        "outputId": "2e7f5b6b-82ae-444f-aeda-7712c5d8b7af"
      },
      "execution_count": 9,
      "outputs": [
        {
          "output_type": "stream",
          "name": "stdout",
          "text": [
            "4\n"
          ]
        }
      ]
    },
    {
      "cell_type": "code",
      "source": [
        "#10\n",
        "s1 = \"Hello\"\n",
        "s2 = \"World\"\n",
        "result = \"\".join([s1, s2])\n",
        "print(result)"
      ],
      "metadata": {
        "colab": {
          "base_uri": "https://localhost:8080/"
        },
        "id": "zp29psEJXli4",
        "outputId": "b660bb7f-52fb-4ae9-ced8-5f7f50fb71eb"
      },
      "execution_count": 10,
      "outputs": [
        {
          "output_type": "stream",
          "name": "stdout",
          "text": [
            "HelloWorld\n"
          ]
        }
      ]
    },
    {
      "cell_type": "code",
      "source": [
        "#11\n",
        "lst = [1, 2, 3, 2, 4, 2]\n",
        "element = 2\n",
        "new_list = [x for x in lst if x != element]\n",
        "print(new_list)"
      ],
      "metadata": {
        "colab": {
          "base_uri": "https://localhost:8080/"
        },
        "id": "5WpZ3wUGXpg6",
        "outputId": "4f1835b3-8eff-4e0d-d903-bee70def9601"
      },
      "execution_count": 11,
      "outputs": [
        {
          "output_type": "stream",
          "name": "stdout",
          "text": [
            "[1, 3, 4]\n"
          ]
        }
      ]
    },
    {
      "cell_type": "code",
      "source": [
        "#12\n",
        "lst = [4, 2, 9, 7, 4, 8]\n",
        "unique_lst = list(set(lst))\n",
        "unique_lst.sort()\n",
        "if len(unique_lst) >= 2:\n",
        "    print(unique_lst[-2])\n",
        "else:\n",
        "    print(\"No second largest\")"
      ],
      "metadata": {
        "colab": {
          "base_uri": "https://localhost:8080/"
        },
        "id": "r0B6DhdgXvE0",
        "outputId": "8301ba16-6b1f-432f-e085-80f3be95a775"
      },
      "execution_count": 12,
      "outputs": [
        {
          "output_type": "stream",
          "name": "stdout",
          "text": [
            "8\n"
          ]
        }
      ]
    },
    {
      "cell_type": "code",
      "source": [
        "#13\n",
        "lst = [1, 2, 2, 3, 3, 3]\n",
        "counts = {}\n",
        "for item in lst:\n",
        "    counts[item] = counts.get(item, 0) + 1\n",
        "print(counts)"
      ],
      "metadata": {
        "colab": {
          "base_uri": "https://localhost:8080/"
        },
        "id": "GGl7HERJXyWK",
        "outputId": "56c9eea2-7fb5-45a3-c45c-a5ac150fc4d2"
      },
      "execution_count": 13,
      "outputs": [
        {
          "output_type": "stream",
          "name": "stdout",
          "text": [
            "{1: 1, 2: 2, 3: 3}\n"
          ]
        }
      ]
    },
    {
      "cell_type": "code",
      "source": [
        "#14\n",
        "lst = [1, 2, 3, 4]\n",
        "for i in range(len(lst)//2):\n",
        "    lst[i], lst[-i-1] = lst[-i-1], lst[i]\n",
        "print(lst)"
      ],
      "metadata": {
        "colab": {
          "base_uri": "https://localhost:8080/"
        },
        "id": "T2zc9RV9X11j",
        "outputId": "5492cc91-45a4-4e48-fd95-ffb5cdbc33fb"
      },
      "execution_count": 14,
      "outputs": [
        {
          "output_type": "stream",
          "name": "stdout",
          "text": [
            "[4, 3, 2, 1]\n"
          ]
        }
      ]
    },
    {
      "cell_type": "code",
      "source": [
        "#15\n",
        "lst = [1, 2, 2, 3, 1, 4]\n",
        "result = []\n",
        "for x in lst:\n",
        "    if x not in result:\n",
        "        result.append(x)\n",
        "print(result)"
      ],
      "metadata": {
        "colab": {
          "base_uri": "https://localhost:8080/"
        },
        "id": "LDFNqIckX5qt",
        "outputId": "611d3782-fd1a-4a81-bfd5-021ddaea42a3"
      },
      "execution_count": 15,
      "outputs": [
        {
          "output_type": "stream",
          "name": "stdout",
          "text": [
            "[1, 2, 3, 4]\n"
          ]
        }
      ]
    },
    {
      "cell_type": "code",
      "source": [
        "#16\n",
        "lst = [1, 2, 3, 4]\n",
        "ascending = all(lst[i] <= lst[i+1] for i in range(len(lst)-1))\n",
        "descending = all(lst[i] >= lst[i+1] for i in range(len(lst)-1))\n",
        "print(\"Ascending\" if ascending else \"Descending\" if descending else \"Not sorted\")"
      ],
      "metadata": {
        "colab": {
          "base_uri": "https://localhost:8080/"
        },
        "id": "uGyYDZ_PX8vE",
        "outputId": "9da13f71-ce01-42c9-a579-24c0adfc386b"
      },
      "execution_count": 16,
      "outputs": [
        {
          "output_type": "stream",
          "name": "stdout",
          "text": [
            "Ascending\n"
          ]
        }
      ]
    },
    {
      "cell_type": "code",
      "source": [
        "#17\n",
        "a = [1, 3, 5]\n",
        "b = [2, 4, 6]\n",
        "result = []\n",
        "i = j = 0\n",
        "while i < len(a) and j < len(b):\n",
        "    if a[i] < b[j]:\n",
        "        result.append(a[i])\n",
        "        i += 1\n",
        "    else:\n",
        "        result.append(b[j])\n",
        "        j += 1\n",
        "result.extend(a[i:])\n",
        "result.extend(b[j:])\n",
        "print(result)"
      ],
      "metadata": {
        "colab": {
          "base_uri": "https://localhost:8080/"
        },
        "id": "m4x4vDxJX_0d",
        "outputId": "b47f417c-9ecb-4675-f80a-303f09cead65"
      },
      "execution_count": 17,
      "outputs": [
        {
          "output_type": "stream",
          "name": "stdout",
          "text": [
            "[1, 2, 3, 4, 5, 6]\n"
          ]
        }
      ]
    },
    {
      "cell_type": "code",
      "source": [
        "#18\n",
        "a = [1, 2, 3, 4]\n",
        "b = [3, 4, 5, 6]\n",
        "intersection = list(set(a) & set(b))\n",
        "print(intersection)"
      ],
      "metadata": {
        "colab": {
          "base_uri": "https://localhost:8080/"
        },
        "id": "HGGxGzuBYDS9",
        "outputId": "d1a1f9a5-5230-43a6-c79a-d508176c4891"
      },
      "execution_count": 18,
      "outputs": [
        {
          "output_type": "stream",
          "name": "stdout",
          "text": [
            "[3, 4]\n"
          ]
        }
      ]
    },
    {
      "cell_type": "code",
      "source": [
        "#19\n",
        "a = [1, 2, 3]\n",
        "b = [3, 4, 5]\n",
        "union = list(set(a) | set(b))\n",
        "print(union)"
      ],
      "metadata": {
        "colab": {
          "base_uri": "https://localhost:8080/"
        },
        "id": "xoOoQ_s5YNd2",
        "outputId": "676e9991-fa38-4f6e-f260-1a87da8adb81"
      },
      "execution_count": 20,
      "outputs": [
        {
          "output_type": "stream",
          "name": "stdout",
          "text": [
            "[1, 2, 3, 4, 5]\n",
            "[1, 2, 3, 4, 5]\n"
          ]
        }
      ]
    },
    {
      "cell_type": "code",
      "source": [
        "#20\n",
        "import random\n",
        "lst = [1, 2, 3, 4, 5]\n",
        "shuffled = []\n",
        "temp = lst.copy()\n",
        "while temp:\n",
        "    i = random.randint(0, len(temp)-1)\n",
        "    shuffled.append(temp.pop(i))\n",
        "print(shuffled)"
      ],
      "metadata": {
        "colab": {
          "base_uri": "https://localhost:8080/"
        },
        "id": "r9Pe-Bf8YVrP",
        "outputId": "6bc1c902-cbdd-44f0-b5c6-0bad839c7a4c"
      },
      "execution_count": 21,
      "outputs": [
        {
          "output_type": "stream",
          "name": "stdout",
          "text": [
            "[3, 2, 4, 5, 1]\n"
          ]
        }
      ]
    },
    {
      "cell_type": "code",
      "source": [
        "#21\n",
        "t1 = (1, 2, 3, 4)\n",
        "t2 = (3, 4, 5, 6)\n",
        "common = tuple(set(t1) & set(t2))\n",
        "print(common)"
      ],
      "metadata": {
        "colab": {
          "base_uri": "https://localhost:8080/"
        },
        "id": "RAp99eUBYfdC",
        "outputId": "61f2fcfd-541f-4556-f451-6c6ca6d2b038"
      },
      "execution_count": 22,
      "outputs": [
        {
          "output_type": "stream",
          "name": "stdout",
          "text": [
            "(3, 4)\n"
          ]
        }
      ]
    },
    {
      "cell_type": "code",
      "source": [
        "#22\n",
        "set1_input = input(\"Enter integers for first set (comma-separated, without braces): \")\n",
        "set2_input = input(\"Enter integers for second set (comma-separated, without braces): \")\n",
        "\n",
        "set1 = set(map(int, set1_input.split(',')))\n",
        "set2 = set(map(int, set2_input.split(',')))\n",
        "\n",
        "intersection = set1 & set2\n",
        "print(\"Intersection of the two sets:\", intersection)"
      ],
      "metadata": {
        "colab": {
          "base_uri": "https://localhost:8080/"
        },
        "id": "h7O4hV0-YjdC",
        "outputId": "226f4bc2-8410-4be5-967c-3492c23c0679"
      },
      "execution_count": 42,
      "outputs": [
        {
          "output_type": "stream",
          "name": "stdout",
          "text": [
            "Enter integers for first set (comma-separated, without braces): 1,3,5\n",
            "Enter integers for second set (comma-separated, without braces): 2,4,6\n",
            "Intersection of the two sets: set()\n"
          ]
        }
      ]
    },
    {
      "cell_type": "code",
      "source": [
        "#23\n",
        "def concat_tuples(t1, t2):\n",
        "    return t1 + t2\n",
        "print(concat_tuples((1, 2), (3, 4)))"
      ],
      "metadata": {
        "colab": {
          "base_uri": "https://localhost:8080/"
        },
        "id": "gfOAT_MpYm2n",
        "outputId": "81c1e7e8-c361-4c53-bdb3-c4020cb545d7"
      },
      "execution_count": 24,
      "outputs": [
        {
          "output_type": "stream",
          "name": "stdout",
          "text": [
            "(1, 2, 3, 4)\n"
          ]
        }
      ]
    },
    {
      "cell_type": "code",
      "source": [
        "#24\n",
        "set1 = set(input().split())\n",
        "set2 = set(input().split())\n",
        "print(set1 - set2)"
      ],
      "metadata": {
        "colab": {
          "base_uri": "https://localhost:8080/"
        },
        "id": "qPLR6innYwOV",
        "outputId": "ac046780-ad04-493f-dcaa-9f6b5f7ee7c0"
      },
      "execution_count": 26,
      "outputs": [
        {
          "output_type": "stream",
          "name": "stdout",
          "text": [
            "1\n",
            "3\n",
            "{'1'}\n"
          ]
        }
      ]
    },
    {
      "cell_type": "code",
      "source": [
        "#25\n",
        "def tuple_slice(t, start, end):\n",
        "    return t[start:end]\n",
        "print(tuple_slice((1, 2, 3, 4, 5), 1, 4))"
      ],
      "metadata": {
        "colab": {
          "base_uri": "https://localhost:8080/"
        },
        "id": "ZvXawz4uZxQJ",
        "outputId": "e40934bf-0d19-4f7c-e784-99661cab8e5a"
      },
      "execution_count": 27,
      "outputs": [
        {
          "output_type": "stream",
          "name": "stdout",
          "text": [
            "(2, 3, 4)\n"
          ]
        }
      ]
    },
    {
      "cell_type": "code",
      "source": [
        "#26\n",
        "set1 = set(input().split())\n",
        "set2 = set(input().split())\n",
        "print(set1 | set2)"
      ],
      "metadata": {
        "colab": {
          "base_uri": "https://localhost:8080/"
        },
        "id": "uMlR-zCQZ2TU",
        "outputId": "39852fd3-1e3c-403d-e0b6-fcce9dda1e45"
      },
      "execution_count": 29,
      "outputs": [
        {
          "output_type": "stream",
          "name": "stdout",
          "text": [
            "{1,2,3}\n",
            "{1,1,2,2,3,3,4,4,5}\n",
            "{'{1,1,2,2,3,3,4,4,5}', '{1,2,3}'}\n"
          ]
        }
      ]
    },
    {
      "cell_type": "code",
      "source": [
        "#27\n",
        "def max_min(t):\n",
        "    mx, mn = max(t), min(t)\n",
        "    return mx, mn\n",
        "mx, mn = max_min((3, 7, 2, 9))\n",
        "print(\"Max:\", mx, \"Min:\", mn)"
      ],
      "metadata": {
        "colab": {
          "base_uri": "https://localhost:8080/"
        },
        "id": "zzBhYi8YcYUw",
        "outputId": "5aba4354-74e6-4250-98b0-fb3dc423e5ea"
      },
      "execution_count": 30,
      "outputs": [
        {
          "output_type": "stream",
          "name": "stdout",
          "text": [
            "Max: 9 Min: 2\n"
          ]
        }
      ]
    },
    {
      "cell_type": "code",
      "source": [
        "#28\n",
        "a = {1, 2, 3}\n",
        "b = {2, 3, 4}\n",
        "print(\"Union:\", a | b)\n",
        "print(\"Intersection:\", a & b)\n",
        "print(\"Difference:\", a - b)"
      ],
      "metadata": {
        "colab": {
          "base_uri": "https://localhost:8080/"
        },
        "id": "HMPU2sLlcqGr",
        "outputId": "6672e0e7-73d6-4b9d-89ca-797181fa1083"
      },
      "execution_count": 31,
      "outputs": [
        {
          "output_type": "stream",
          "name": "stdout",
          "text": [
            "Union: {1, 2, 3, 4}\n",
            "Intersection: {2, 3}\n",
            "Difference: {1}\n"
          ]
        }
      ]
    },
    {
      "cell_type": "code",
      "source": [
        "#29\n",
        "t = (1, 2, 3, 2, 2, 4)\n",
        "element = 2\n",
        "print(t.count(element))"
      ],
      "metadata": {
        "colab": {
          "base_uri": "https://localhost:8080/"
        },
        "id": "xxd93dOHctr8",
        "outputId": "27c1a5ac-0b83-4009-ab49-ea9f6fb98b9e"
      },
      "execution_count": 32,
      "outputs": [
        {
          "output_type": "stream",
          "name": "stdout",
          "text": [
            "3\n"
          ]
        }
      ]
    },
    {
      "cell_type": "code",
      "source": [
        "#30\n",
        "set1 = set(input().split())\n",
        "set2 = set(input().split())\n",
        "print(set1 ^ set2)"
      ],
      "metadata": {
        "colab": {
          "base_uri": "https://localhost:8080/"
        },
        "id": "4tbq-Z9zcw3g",
        "outputId": "0df29948-0658-4e6a-c9eb-e22ee921e56b"
      },
      "execution_count": 33,
      "outputs": [
        {
          "output_type": "stream",
          "name": "stdout",
          "text": [
            "{2,4,6}\n",
            "{2,4,7,8,9}\n",
            "{'{2,4,7,8,9}', '{2,4,6}'}\n"
          ]
        }
      ]
    },
    {
      "cell_type": "code",
      "source": [
        "#31\n",
        "lst = [\"apple\", \"banana\", \"apple\", \"cherry\", \"banana\"]\n",
        "word_freq = {}\n",
        "for word in lst:\n",
        "    word_freq[word] = word_freq.get(word, 0) + 1\n",
        "print(word_freq)"
      ],
      "metadata": {
        "colab": {
          "base_uri": "https://localhost:8080/"
        },
        "id": "VhPVOhJfc0DG",
        "outputId": "8053ca2a-78f2-4c5c-85bf-1ef1af867bd9"
      },
      "execution_count": 34,
      "outputs": [
        {
          "output_type": "stream",
          "name": "stdout",
          "text": [
            "{'apple': 2, 'banana': 2, 'cherry': 1}\n"
          ]
        }
      ]
    },
    {
      "cell_type": "code",
      "source": [
        "#32\n",
        "d1 = {'a': 1, 'b': 2}\n",
        "d2 = {'b': 3, 'c': 4}\n",
        "merged = d1.copy()\n",
        "for k, v in d2.items():\n",
        "    merged[k] = merged.get(k, 0) + v\n",
        "print(merged)\n"
      ],
      "metadata": {
        "colab": {
          "base_uri": "https://localhost:8080/"
        },
        "id": "lnyNlqK_c_8z",
        "outputId": "c341037a-8289-47f6-b8d9-3dda0bec6400"
      },
      "execution_count": 36,
      "outputs": [
        {
          "output_type": "stream",
          "name": "stdout",
          "text": [
            "{'a': 1, 'b': 5, 'c': 4}\n"
          ]
        }
      ]
    },
    {
      "cell_type": "code",
      "source": [
        "#33\n",
        "def get_nested(d, keys):\n",
        "    for k in keys:\n",
        "        if isinstance(d, dict) and k in d:\n",
        "            d = d[k]\n",
        "        else:\n",
        "            return None\n",
        "    return d\n",
        "nested = {'a': {'b': {'c': 1}}}\n",
        "print(get_nested(nested, ['a', 'b', 'c']))"
      ],
      "metadata": {
        "colab": {
          "base_uri": "https://localhost:8080/"
        },
        "id": "S3KfWMkTdDHa",
        "outputId": "c00f2bf7-3deb-4b3f-c466-a77594024a31"
      },
      "execution_count": 37,
      "outputs": [
        {
          "output_type": "stream",
          "name": "stdout",
          "text": [
            "1\n"
          ]
        }
      ]
    },
    {
      "cell_type": "code",
      "source": [
        "#34\n",
        "d = {'a': 3, 'b': 1, 'c': 2}\n",
        "# Ascending\n",
        "sorted_d = dict(sorted(d.items(), key=lambda x: x[1]))\n",
        "print(sorted_d)\n",
        "# Descending\n",
        "sorted_d_desc = dict(sorted(d.items(), key=lambda x: x[1], reverse=True))\n",
        "print(sorted_d_desc)"
      ],
      "metadata": {
        "colab": {
          "base_uri": "https://localhost:8080/"
        },
        "id": "kMqfN0SqdS5g",
        "outputId": "fbf7ffc3-c13e-476b-b79e-c28f1de57e20"
      },
      "execution_count": 38,
      "outputs": [
        {
          "output_type": "stream",
          "name": "stdout",
          "text": [
            "{'b': 1, 'c': 2, 'a': 3}\n",
            "{'a': 3, 'c': 2, 'b': 1}\n"
          ]
        }
      ]
    },
    {
      "cell_type": "code",
      "source": [
        "#35\n",
        "d = {'a': 1, 'b': 2, 'c': 1}\n",
        "inv = {}\n",
        "for k, v in d.items():\n",
        "    inv.setdefault(v, []).append(k)\n",
        "print(inv)"
      ],
      "metadata": {
        "colab": {
          "base_uri": "https://localhost:8080/"
        },
        "id": "BTk5q0VSdWxn",
        "outputId": "817b66b8-ea85-4bde-e141-a047bab61582"
      },
      "execution_count": 39,
      "outputs": [
        {
          "output_type": "stream",
          "name": "stdout",
          "text": [
            "{1: ['a', 'c'], 2: ['b']}\n"
          ]
        }
      ]
    },
    {
      "cell_type": "code",
      "source": [],
      "metadata": {
        "id": "Kc0D9yPAdqBl"
      },
      "execution_count": null,
      "outputs": []
    }
  ]
}