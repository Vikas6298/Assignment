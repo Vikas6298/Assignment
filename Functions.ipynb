{
  "nbformat": 4,
  "nbformat_minor": 0,
  "metadata": {
    "colab": {
      "provenance": []
    },
    "kernelspec": {
      "name": "python3",
      "display_name": "Python 3"
    },
    "language_info": {
      "name": "python"
    }
  },
  "cells": [
    {
      "cell_type": "markdown",
      "source": [
        "**Theory Questions**"
      ],
      "metadata": {
        "id": "8N7EdkrfOcUU"
      }
    },
    {
      "cell_type": "code",
      "source": [
        "#1\n",
        "'''Function: A block of code that performs a specific task. Defined using def, not tied to objects.\n",
        "Method: A function associated with an object; called using dot notation.'''\n",
        "def greet(name):      # Function\n",
        "    print(\"Hello\", name)\n",
        "\n",
        "name = \"Vikas\"\n",
        "name.upper()          # .upper() is a method of string object"
      ],
      "metadata": {
        "colab": {
          "base_uri": "https://localhost:8080/",
          "height": 35
        },
        "id": "jhH-ivzQOjAa",
        "outputId": "af71b992-89d7-4e54-bd35-59dd13df4fa1"
      },
      "execution_count": 2,
      "outputs": [
        {
          "output_type": "execute_result",
          "data": {
            "text/plain": [
              "'VIKAS'"
            ],
            "application/vnd.google.colaboratory.intrinsic+json": {
              "type": "string"
            }
          },
          "metadata": {},
          "execution_count": 2
        }
      ]
    },
    {
      "cell_type": "code",
      "source": [
        "#2\n",
        "'''Parameter: Variable in the function definition.\n",
        "Argument: Value supplied to the function when called.'''\n",
        "def add(a, b):     # a, b are parameters\n",
        "    return a + b\n",
        "\n",
        "add(3, 5)          # 3, 5 are arguments\n"
      ],
      "metadata": {
        "colab": {
          "base_uri": "https://localhost:8080/"
        },
        "id": "c5wDmW3zO2Ir",
        "outputId": "061d25e8-b377-478a-8876-47c1673a03c7"
      },
      "execution_count": 3,
      "outputs": [
        {
          "output_type": "execute_result",
          "data": {
            "text/plain": [
              "8"
            ]
          },
          "metadata": {},
          "execution_count": 3
        }
      ]
    },
    {
      "cell_type": "code",
      "source": [
        "#3\n",
        "'''Defining: Using def, lambda; for async, async def.\n",
        "Calling: Just use the function name with arguments.'''\n",
        "def square(x): return x * x      # using def\n",
        "(lambda x: x * x)(5)             # using lambda\n",
        "\n",
        "square(4)                        # normal call"
      ],
      "metadata": {
        "colab": {
          "base_uri": "https://localhost:8080/"
        },
        "id": "DhgZ30xmPKSF",
        "outputId": "8c683621-6191-47e8-bce7-d892abc350f9"
      },
      "execution_count": 4,
      "outputs": [
        {
          "output_type": "execute_result",
          "data": {
            "text/plain": [
              "16"
            ]
          },
          "metadata": {},
          "execution_count": 4
        }
      ]
    },
    {
      "cell_type": "code",
      "source": [
        "#4\n",
        "'''Returns a value from the function to the caller, ends the function execution.'''\n",
        "def double(x):\n",
        "    return x * 2\n",
        "print(double(4))"
      ],
      "metadata": {
        "colab": {
          "base_uri": "https://localhost:8080/"
        },
        "id": "MYz2YGDePX-n",
        "outputId": "b0edf3fe-8657-492d-fab1-a35c5f22cd2e"
      },
      "execution_count": 5,
      "outputs": [
        {
          "output_type": "stream",
          "name": "stdout",
          "text": [
            "8\n"
          ]
        }
      ]
    },
    {
      "cell_type": "code",
      "source": [
        "#5\n",
        "'''Iterable: Can return its elements one at a time (like list, tuple, string).\n",
        "Iterator: An object with a __next__() method that gets the next value.'''\n",
        "lst = [1,2,3]         # Iterable\n",
        "it = iter(lst)        # Iterator\n",
        "\n",
        "print(next(it))\n",
        "print(next(it))"
      ],
      "metadata": {
        "colab": {
          "base_uri": "https://localhost:8080/"
        },
        "id": "_7HLIwKrPlel",
        "outputId": "f0e694ea-0201-4c2f-a8a8-626a66dc9ba6"
      },
      "execution_count": 10,
      "outputs": [
        {
          "output_type": "stream",
          "name": "stdout",
          "text": [
            "1\n",
            "2\n"
          ]
        }
      ]
    },
    {
      "cell_type": "code",
      "source": [
        "#6\n",
        "'''Generator: Function that yields items one at a time using yield keyword.'''\n",
        "def countdown(n):\n",
        "    while n > 0:\n",
        "        yield n\n",
        "        n -= 1\n",
        "for x in countdown(3):\n",
        "    print(x)"
      ],
      "metadata": {
        "colab": {
          "base_uri": "https://localhost:8080/"
        },
        "id": "ouLFy7gRPvXQ",
        "outputId": "dbc139b7-7547-4270-ac3e-51efa5751498"
      },
      "execution_count": 7,
      "outputs": [
        {
          "output_type": "stream",
          "name": "stdout",
          "text": [
            "3\n",
            "2\n",
            "1\n"
          ]
        }
      ]
    },
    {
      "cell_type": "code",
      "source": [
        "#7\n",
        "'''Advantages of generators over regular functions\n",
        "-Save memory , Computation is lazy, Useful for big data or infinite sequences'''"
      ],
      "metadata": {
        "colab": {
          "base_uri": "https://localhost:8080/",
          "height": 35
        },
        "id": "Icp0LVrIP_vg",
        "outputId": "9f5a63d6-102d-4b29-dc81-1f3c76f8c00a"
      },
      "execution_count": 8,
      "outputs": [
        {
          "output_type": "execute_result",
          "data": {
            "text/plain": [
              "'Advantages of generators over regular functions\\n-Save memory , Computation is lazy, Useful for big data or infinite sequences'"
            ],
            "application/vnd.google.colaboratory.intrinsic+json": {
              "type": "string"
            }
          },
          "metadata": {},
          "execution_count": 8
        }
      ]
    },
    {
      "cell_type": "code",
      "source": [
        "#8\n",
        "'''Lambda: Small anonymous function; used for simple, one-line use.'''\n",
        "double = lambda x: x*2\n",
        "print(double(3))"
      ],
      "metadata": {
        "colab": {
          "base_uri": "https://localhost:8080/"
        },
        "id": "ku5nl0p1QXf_",
        "outputId": "cbd4181a-264f-4d8f-f32b-952c467fc200"
      },
      "execution_count": 9,
      "outputs": [
        {
          "output_type": "stream",
          "name": "stdout",
          "text": [
            "6\n"
          ]
        }
      ]
    },
    {
      "cell_type": "code",
      "source": [
        "#9\n",
        "'''map() function in Python\n",
        "Applies a function to every item in an iterable.'''\n",
        "nums = [1, 2, 3]\n",
        "squared = list(map(lambda x: x*x, nums))\n",
        "print(squared)"
      ],
      "metadata": {
        "colab": {
          "base_uri": "https://localhost:8080/"
        },
        "id": "E3etpQTOQgG-",
        "outputId": "57158652-e75d-42e7-ebff-d6cda5fc6888"
      },
      "execution_count": 11,
      "outputs": [
        {
          "output_type": "stream",
          "name": "stdout",
          "text": [
            "[1, 4, 9]\n"
          ]
        }
      ]
    },
    {
      "cell_type": "code",
      "source": [
        "#10\n",
        "'''map(): Applies func to all items.\n",
        "filter(): Returns items where func(item) is True.\n",
        "reduce(): Repeatedly applies func to combine all items into one value.'''\n",
        "from functools import reduce\n",
        "nums = [1,2,3,4]\n",
        "print(list(map(lambda x: x+1, nums)))\n",
        "print(list(filter(lambda x: x%2==0, nums)))\n",
        "print(reduce(lambda x,y: x+y, nums))"
      ],
      "metadata": {
        "colab": {
          "base_uri": "https://localhost:8080/"
        },
        "id": "eVniPN5mQyIq",
        "outputId": "aacd1766-559f-452f-e365-b1b1c6602c12"
      },
      "execution_count": 12,
      "outputs": [
        {
          "output_type": "stream",
          "name": "stdout",
          "text": [
            "[2, 3, 4, 5]\n",
            "[2, 4]\n",
            "10\n"
          ]
        }
      ]
    },
    {
      "cell_type": "markdown",
      "source": [
        "**PRACTICAL QUESTIONS WITH CODE**"
      ],
      "metadata": {
        "id": "8kCnyIYkSACv"
      }
    },
    {
      "cell_type": "code",
      "source": [
        "#1\n",
        "def sum_even(lst):\n",
        "    return sum(x for x in lst if x % 2 == 0)\n",
        "print(sum_even([1,2,3,4,5,6]))"
      ],
      "metadata": {
        "colab": {
          "base_uri": "https://localhost:8080/"
        },
        "id": "YRwulNRCSFDx",
        "outputId": "bc892fb4-e2aa-4ab3-cbe1-4dcfd9e42976"
      },
      "execution_count": 13,
      "outputs": [
        {
          "output_type": "stream",
          "name": "stdout",
          "text": [
            "12\n"
          ]
        }
      ]
    },
    {
      "cell_type": "code",
      "source": [
        "#2\n",
        "def reverse_string(s):\n",
        "    return s[::-1]\n",
        "print(reverse_string(\"Python\"))"
      ],
      "metadata": {
        "colab": {
          "base_uri": "https://localhost:8080/"
        },
        "id": "crQrqO2JSKSM",
        "outputId": "b552a3e2-fc0b-4e47-9bb8-95148b6b030c"
      },
      "execution_count": 14,
      "outputs": [
        {
          "output_type": "stream",
          "name": "stdout",
          "text": [
            "nohtyP\n"
          ]
        }
      ]
    },
    {
      "cell_type": "code",
      "source": [
        "#3\n",
        "def squares(lst):\n",
        "    return [x**2 for x in lst]\n",
        "print(squares([1,2,3,4]))"
      ],
      "metadata": {
        "colab": {
          "base_uri": "https://localhost:8080/"
        },
        "id": "x9Q9s1UdSN-V",
        "outputId": "93e57b76-72da-42d5-ef4f-7a791be7fc00"
      },
      "execution_count": 15,
      "outputs": [
        {
          "output_type": "stream",
          "name": "stdout",
          "text": [
            "[1, 4, 9, 16]\n"
          ]
        }
      ]
    },
    {
      "cell_type": "code",
      "source": [
        "#4\n",
        "def is_prime(n):\n",
        "    if n < 2: return False\n",
        "    for i in range(2, int(n**0.5)+1):\n",
        "        if n % i == 0:\n",
        "            return False\n",
        "    return True\n",
        "\n",
        "for i in range(1, 201):\n",
        "    if is_prime(i): print(i, end=' ')"
      ],
      "metadata": {
        "colab": {
          "base_uri": "https://localhost:8080/"
        },
        "id": "dnsQ7a4OSRLk",
        "outputId": "d3ca9a87-b296-42f6-f1c5-3013e0cf63b1"
      },
      "execution_count": 16,
      "outputs": [
        {
          "output_type": "stream",
          "name": "stdout",
          "text": [
            "2 3 5 7 11 13 17 19 23 29 31 37 41 43 47 53 59 61 67 71 73 79 83 89 97 101 103 107 109 113 127 131 137 139 149 151 157 163 167 173 179 181 191 193 197 199 "
          ]
        }
      ]
    },
    {
      "cell_type": "code",
      "source": [
        "#5\n",
        "class Fibonacci:\n",
        "    def __init__(self, n):\n",
        "        self.n = n\n",
        "        self.a = 0\n",
        "        self.b = 1\n",
        "        self.count = 0\n",
        "    def __iter__(self):\n",
        "        return self\n",
        "    def __next__(self):\n",
        "        if self.count < self.n:\n",
        "            res = self.a\n",
        "            self.a, self.b = self.b, self.a + self.b\n",
        "            self.count +=1\n",
        "            return res\n",
        "        else:\n",
        "            raise StopIteration\n",
        "\n",
        "fib = Fibonacci(7)\n",
        "print(list(fib))"
      ],
      "metadata": {
        "colab": {
          "base_uri": "https://localhost:8080/"
        },
        "id": "AKrDUPe2SWA-",
        "outputId": "52ad4be9-a6f7-4dd3-98d8-b3d86b7e1983"
      },
      "execution_count": 17,
      "outputs": [
        {
          "output_type": "stream",
          "name": "stdout",
          "text": [
            "[0, 1, 1, 2, 3, 5, 8]\n"
          ]
        }
      ]
    },
    {
      "cell_type": "code",
      "source": [
        "#6\n",
        "def gen_powers_of_2(max_exp):\n",
        "    for n in range(max_exp+1):\n",
        "        yield 2 ** n\n",
        "print(list(gen_powers_of_2(5)))"
      ],
      "metadata": {
        "colab": {
          "base_uri": "https://localhost:8080/"
        },
        "id": "12Pf64_GScAV",
        "outputId": "331d32ef-b5a1-4302-8cae-11c8bb720899"
      },
      "execution_count": 18,
      "outputs": [
        {
          "output_type": "stream",
          "name": "stdout",
          "text": [
            "[1, 2, 4, 8, 16, 32]\n"
          ]
        }
      ]
    },
    {
      "cell_type": "code",
      "source": [
        "#7\n",
        "def file_line_reader(filename):\n",
        "    with open(filename) as f:\n",
        "        for line in f:\n",
        "            yield line.rstrip('\\n')"
      ],
      "metadata": {
        "id": "ifFMqRSlShNx"
      },
      "execution_count": 19,
      "outputs": []
    },
    {
      "cell_type": "code",
      "source": [
        "#8\n",
        "lst = [(1, 4), (2, 1), (3, 2)]\n",
        "lst_sorted = sorted(lst, key=lambda x: x[1])\n",
        "print(lst_sorted)"
      ],
      "metadata": {
        "colab": {
          "base_uri": "https://localhost:8080/"
        },
        "id": "tEEWnQLySmWW",
        "outputId": "3552d17d-25ee-4cda-a696-c2c961a8fad4"
      },
      "execution_count": 20,
      "outputs": [
        {
          "output_type": "stream",
          "name": "stdout",
          "text": [
            "[(2, 1), (3, 2), (1, 4)]\n"
          ]
        }
      ]
    },
    {
      "cell_type": "code",
      "source": [
        "#9\n",
        "c_temps = [0, 10, 20, 30]\n",
        "f_temps = list(map(lambda c: (c*9/5)+32, c_temps))\n",
        "print(f_temps)"
      ],
      "metadata": {
        "colab": {
          "base_uri": "https://localhost:8080/"
        },
        "id": "xaf36HU3SsxN",
        "outputId": "21d3852e-33ca-4bfb-9c53-89b3fefbfdde"
      },
      "execution_count": 21,
      "outputs": [
        {
          "output_type": "stream",
          "name": "stdout",
          "text": [
            "[32.0, 50.0, 68.0, 86.0]\n"
          ]
        }
      ]
    },
    {
      "cell_type": "code",
      "source": [
        "#10\n",
        "s = \"hello world\"\n",
        "no_vowels = ''.join(filter(lambda x: x.lower() not in 'aeiou', s))\n",
        "print(no_vowels)"
      ],
      "metadata": {
        "colab": {
          "base_uri": "https://localhost:8080/"
        },
        "id": "ZnqikCsfSwta",
        "outputId": "7b5e2e93-c2fa-4f57-feba-ca91bbafc52f"
      },
      "execution_count": 22,
      "outputs": [
        {
          "output_type": "stream",
          "name": "stdout",
          "text": [
            "hll wrld\n"
          ]
        }
      ]
    },
    {
      "cell_type": "code",
      "source": [
        "#11\n",
        "orders = [\n",
        "    [34587, \"Learning Python, Mark Lutz\", 4, 40.95],\n",
        "    [98762, \"Programming Python, Mark Lutz\", 5, 56.80],\n",
        "    [77226, \"Head First Python, Paul Barry\", 3, 32.95],\n",
        "    [88112, \"Einführung in Python3, Bernd Klein\", 3, 24.99]\n",
        "]\n",
        "\n",
        "result = list(map(\n",
        "    lambda x: (x[0], x[2]*x[3] + (10 if x[2]*x[3] < 100 else 0)),\n",
        "    orders\n",
        "))\n",
        "print(result)"
      ],
      "metadata": {
        "colab": {
          "base_uri": "https://localhost:8080/"
        },
        "id": "xFU4iNp1S1Ny",
        "outputId": "886f91cf-22ba-4c6b-a306-a8f5c73df568"
      },
      "execution_count": 23,
      "outputs": [
        {
          "output_type": "stream",
          "name": "stdout",
          "text": [
            "[(34587, 163.8), (98762, 284.0), (77226, 108.85000000000001), (88112, 84.97)]\n"
          ]
        }
      ]
    },
    {
      "cell_type": "code",
      "source": [],
      "metadata": {
        "id": "MpOaiwfhTBYF"
      },
      "execution_count": null,
      "outputs": []
    }
  ]
}